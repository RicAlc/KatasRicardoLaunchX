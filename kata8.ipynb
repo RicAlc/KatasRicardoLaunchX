{
 "cells": [
  {
   "cell_type": "markdown",
   "metadata": {},
   "source": [
    "# KATA 8\n",
    "    Diccionarios de Python"
   ]
  },
  {
   "cell_type": "markdown",
   "metadata": {},
   "source": [
    "### Ejercicio 1\n",
    "Crear y modificar un diccionario de Python\n",
    "- Para este ejercicio, crearás un diccionario que almacene información sobre el planeta Marte.\n",
    "- Agrega el código para crear un nuevo diccionario denominado 'planet'. Rellena con la siguiente información:\n",
    "    - name: Mars\n",
    "    - moons: 2\n",
    "- Para recuperar valores, puede utilizar el método get o corchetes ([ ]) con el nombre de la clave que desea recuperar.\n",
    "- Muestra el nombre del planeta y el número de lunas que tiene.\n"
   ]
  },
  {
   "cell_type": "code",
   "execution_count": 44,
   "metadata": {},
   "outputs": [
    {
     "name": "stdout",
     "output_type": "stream",
     "text": [
      "dict_values(['Mars', '2'])\n",
      "Data for: Mars\n",
      "name :  Mars\n",
      "moons :  2\n",
      "circumference (km) :  {'polar': 6752, 'equatorial': 6792}\n",
      "The planet Mars has a polar circumference (km) of 6752 Km\n"
     ]
    }
   ],
   "source": [
    "# Crea un diccionario llamado planet con los datos propuestos\n",
    "planet = {\n",
    "    'name': 'Mars',\n",
    "    'moons': '2' \n",
    "}\n",
    "\n",
    "# Muestra el nombre del planeta y el número de lunas que tiene.\n",
    "print(planet.values())\n",
    "\n",
    "# Agrega la clave circunferencia con los datos proporcionados previamente\n",
    "planet['circumference (km)'] ={\n",
    "    'polar': 6752,\n",
    "    'equatorial': 6792\n",
    "}\n",
    "\n",
    "# Imprime el nombre del planeta con su circunferencia polar.\n",
    "print('Data for:', planet[\"name\"])\n",
    "for item in planet:\n",
    "    print(item, ': ', planet[item])\n",
    "\n",
    "# Imprimiendo los valores en formatio oracion con f strings\n",
    "print(f'The planet {planet[\"name\"]} has a polar circumference (km) of {planet[\"circumference (km)\"][\"polar\"]} Km')\n"
   ]
  },
  {
   "cell_type": "markdown",
   "metadata": {},
   "source": [
    "### Ejercicio 2: Programación dinámica con diccionarios\n",
    "\n",
    "Ejercicio: Cálculo de valores\n",
    "\n",
    "En este escenario, calcularás tanto el número total de lunas en el sistema solar como el número promedio de lunas que tiene un planeta.\n"
   ]
  },
  {
   "cell_type": "code",
   "execution_count": 3,
   "metadata": {},
   "outputs": [
    {
     "name": "stdout",
     "output_type": "stream",
     "text": [
      "There are 12 planets in total\n",
      "There are 214 moons in total\n",
      "The planets have an average of 17.83 moons\n"
     ]
    }
   ],
   "source": [
    "# Planets and moons\n",
    "\n",
    "planet_moons = {\n",
    "    'mercury': 0,\n",
    "    'venus': 0,\n",
    "    'earth': 1,\n",
    "    'mars': 2,\n",
    "    'jupiter': 79,\n",
    "    'saturn': 82,\n",
    "    'uranus': 27,\n",
    "    'neptune': 14,\n",
    "    'pluto': 5,\n",
    "    'haumea': 2,\n",
    "    'makemake': 1,\n",
    "    'eris': 1\n",
    "}\n",
    "\n",
    "# Código para determinar el numero de planetas\n",
    "moons = planet_moons.values()\n",
    "planets = len(planet_moons.keys())\n",
    "print(f'There are {planets} planets in total')\n",
    "\n",
    "\n",
    "# Añade el código para determinar el número de lunas.\n",
    "total_of_moons = 0 \n",
    "for m in moons:\n",
    "    total_of_moons = total_of_moons + m\n",
    "    \n",
    "print(f'There are {total_of_moons} moons in total')\n",
    "\n",
    "\n",
    "# Añade el código para determinar el promedio de lunas.\n",
    "average_moons = total_of_moons/ planets\n",
    "print(f'The planets have an average of {round(average_moons,2)} moons') \n",
    "\n",
    "\n",
    "\n",
    "\n"
   ]
  }
 ],
 "metadata": {
  "interpreter": {
   "hash": "7ffd835ae3eeb510ed33d11ea6515afca547441c2ab8256e435875ea160299a1"
  },
  "kernelspec": {
   "display_name": "Python 3.10.2 64-bit",
   "language": "python",
   "name": "python3"
  },
  "language_info": {
   "codemirror_mode": {
    "name": "ipython",
    "version": 3
   },
   "file_extension": ".py",
   "mimetype": "text/x-python",
   "name": "python",
   "nbconvert_exporter": "python",
   "pygments_lexer": "ipython3",
   "version": "3.10.2"
  },
  "orig_nbformat": 4
 },
 "nbformat": 4,
 "nbformat_minor": 2
}
