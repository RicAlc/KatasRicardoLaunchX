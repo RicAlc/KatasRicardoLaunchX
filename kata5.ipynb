{
 "cells": [
  {
   "cell_type": "markdown",
   "metadata": {},
   "source": [
    "# KATA 5\n",
    "    Cadenas"
   ]
  },
  {
   "cell_type": "markdown",
   "metadata": {},
   "source": [
    "### Ejercicio 1\n",
    "Exploremos cómo podemos crear un programa que pueda calcular la distancia entre dos planetas. Comenzaremos usando dos distancias de planetas: Tierra (149.597.870 km) y Júpiter (778.547.200 km).\n"
   ]
  },
  {
   "cell_type": "code",
   "execution_count": 3,
   "metadata": {},
   "outputs": [
    {
     "name": "stdout",
     "output_type": "stream",
     "text": [
      "628949330\n",
      "390577533.93\n"
     ]
    }
   ],
   "source": [
    "#Distancia entre la tierra y Júpiter\n",
    "\n",
    "#Distancia de planetas con respecto al sol\n",
    "dist_tierra = 149597870\n",
    "dist_jupiter = 778547200\n",
    "dist_total = dist_jupiter - dist_tierra\n",
    "miles = dist_total * 0.621\n",
    "print(dist_total)\n",
    "print(miles)"
   ]
  },
  {
   "cell_type": "markdown",
   "metadata": {},
   "source": [
    "### Ejercicio 2\n",
    "Convierte cadenas en números y usa valores absolutos. Crear una aplicación para trabajar con números y entrada de usuario.\n"
   ]
  },
  {
   "cell_type": "code",
   "execution_count": 6,
   "metadata": {},
   "outputs": [
    {
     "name": "stdout",
     "output_type": "stream",
     "text": [
      "250\n",
      "155.25\n"
     ]
    }
   ],
   "source": [
    "planet_one = input('Distancia del primer planteta')\n",
    "planet_two = input('Distancia del segundo planteta')\n",
    "planet_one = int(planet_one)\n",
    "planet_two = int(planet_two)\n",
    "\n",
    "dist_km = abs(planet_one - planet_two)\n",
    "dist_miles= dist_km*0.621\n",
    "print(dist_km)\n",
    "print(dist_miles)\n"
   ]
  }
 ],
 "metadata": {
  "interpreter": {
   "hash": "7ffd835ae3eeb510ed33d11ea6515afca547441c2ab8256e435875ea160299a1"
  },
  "kernelspec": {
   "display_name": "Python 3.10.2 64-bit",
   "language": "python",
   "name": "python3"
  },
  "language_info": {
   "codemirror_mode": {
    "name": "ipython",
    "version": 3
   },
   "file_extension": ".py",
   "mimetype": "text/x-python",
   "name": "python",
   "nbconvert_exporter": "python",
   "pygments_lexer": "ipython3",
   "version": "3.10.2"
  },
  "orig_nbformat": 4
 },
 "nbformat": 4,
 "nbformat_minor": 2
}
