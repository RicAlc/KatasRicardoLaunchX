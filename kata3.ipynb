{
 "cells": [
  {
   "cell_type": "markdown",
   "metadata": {},
   "source": [
    "# KATA 3\n",
    "    Escribir declaraciones if, else, y elif\n",
    "    Uso de operadores and y or"
   ]
  },
  {
   "cell_type": "markdown",
   "metadata": {},
   "source": [
    "### Problema 1\n",
    "Para este ejercicio, escribirás una lógica condicional que imprima una advertencia si un asteroide se acerca a la Tierra demasiado rápido. La velocidad del asteroide varía dependiendo de lo cerca que esté del sol, y cualquier velocidad superior a 25 kilómetros por segundo (km/s) merece una advertencia.\n",
    "Un asteroide se acerca, y viaja a una velocidad de 49 km/s.\n",
    "- Añadir el código necesario para crear una variable que guarde la velocidad del asteroide.\n",
    "- Escribe una expresión de prueba para calcular si necesita una advertencia.\n",
    "- Agregue las instrucciones que se ejecutarán si la expresión de prueba es true o false."
   ]
  },
  {
   "cell_type": "code",
   "execution_count": 5,
   "metadata": {},
   "outputs": [
    {
     "name": "stdout",
     "output_type": "stream",
     "text": [
      "¡ALERTA! Un asteroide se acerca peligrosamente a la tierra a 49 Km/h\n"
     ]
    }
   ],
   "source": [
    "velAsteroide = 49\n",
    "velPeligro = 25\n",
    "\n",
    "if velAsteroide >= velPeligro:\n",
    "    print('¡ALERTA! Un asteroide se acerca peligrosamente a la tierra a ' + str(velAsteroide) + 'Km/h')\n",
    "else:\n",
    "    print('No hay ninguna amenza de asteroide, ten un buen dia')"
   ]
  },
  {
   "cell_type": "markdown",
   "metadata": {},
   "source": [
    "### Problema 2\n",
    "Si un asteroide entra en la atmósfera de la Tierra a una velocidad mayor o igual a 20 km/s, a veces produce un rayo de luz que se puede ver desde la Tierra. Escribe la lógica condicional que usa declaraciones if, else, y elif para alertar a las personas de todo el mundo que deben buscar un asteroide en el cielo. ¡Hay uno que se dirige a la tierra ahora a una velocidad de 19 km/s!\n",
    "\n",
    "- Agrega el código para crear una variable para un asteroide que viaja a 19 km/s\n",
    "- Escribe varias expresiones de prueba para determinar si puedes ver el rayo de luz desde la tierra\n",
    "- Agrega las instrucciones que se ejecutarán si las expresiones de prueba son True o False"
   ]
  },
  {
   "cell_type": "code",
   "execution_count": 7,
   "metadata": {},
   "outputs": [
    {
     "name": "stdout",
     "output_type": "stream",
     "text": [
      "No hay ninguna amenza de asteroide, ten un buen dia\n"
     ]
    }
   ],
   "source": [
    "velAsteroide2 = 19\n",
    "if velAsteroide2 > 20:\n",
    "    print('Asteroide detectado, mira al cielo para ver el rayo de luz')\n",
    "elif velAsteroide2 == 20:\n",
    "    print('Asteroide detectado, mira al cielo para ver el rayo de luz')\n",
    "else:\n",
    "    print('No hay ninguna amenza de asteroide, ten un buen dia')    "
   ]
  },
  {
   "cell_type": "markdown",
   "metadata": {},
   "source": [
    "### Problema 3\n",
    "*Los asteroides de menos de 25 metros en su dimensión más grande probablemente se quemarán a medida que entren en la atmósfera de la Tierra.\n",
    "\n",
    "Si una pieza de un asteroide que es más grande que 25 metros pero más pequeña que 1000 metros golpeara la Tierra, causaría mucho daño.\n",
    "También discutimos en el ejercicio anterior que:\n",
    "\n",
    "La velocidad del asteroide varía en función de lo cerca que esté del sol, y cualquier velocidad superior a 25 kilómetros por segundo (km/s) merece una advertencia.\n",
    "Si un asteroide entra en la atmósfera de la Tierra a una velocidad mayor o igual a 20 km/s, a veces produce un rayo de luz que se puede ver desde la Tierra.\n",
    "Usando toda esta información, escribe un programa que emita la advertencia o información correcta a la gente de la Tierra, según la velocidad y el tamaño de un asteroide. Utiliza instrucciones if, else, y elif, así como los operadores and y or.\n",
    "\n",
    "- Agrega el código para crear nuevas variables para la velocidad y el tamaño del asteroide\n",
    "- Para probar el código, prueba con varias velocidades y tamaños\n",
    "- Escribe varias expresiones de prueba o combinaciones de expresiones de prueba para determinar qué mensaje se debe enviar a Tierra."
   ]
  },
  {
   "cell_type": "code",
   "execution_count": 13,
   "metadata": {},
   "outputs": [
    {
     "name": "stdout",
     "output_type": "stream",
     "text": [
      "¡ALERTA! Un asteroide de 73m se acerca a 35Km/h\n"
     ]
    }
   ],
   "source": [
    "velAsteroide3 =35\n",
    "diamAsteroide3 = 73\n",
    "\n",
    "if velAsteroide3 > 25 and diamAsteroide3 > 25:\n",
    "    print('¡ALERTA! Un asteroide de ' + str(diamAsteroide3) + 'm se acerca a ' + str(velAsteroide3) + 'Km/h' )\n",
    "elif  velAsteroide3 >= 25:\n",
    "    print('Asteroide detectado, mira al cielo para ver el rayo de luz')\n",
    "elif diamAsteroide3 < 25:\n",
    "    print('No hay ninguna amenza de asteroide, ten un buen dia')\n",
    "else:\n",
    "    print('No hay ninguna amenza de asteroide, ten un buen dia')"
   ]
  },
  {
   "cell_type": "code",
   "execution_count": 12,
   "metadata": {},
   "outputs": [
    {
     "name": "stdout",
     "output_type": "stream",
     "text": [
      "Asteroide detectado, mira al cielo para ver el rayo de luz\n"
     ]
    }
   ],
   "source": [
    "velAsteroide3 = 27\n",
    "diamAsteroide3 = 15\n",
    "\n",
    "if velAsteroide3 > 25 and diamAsteroide3 > 25:\n",
    "    print('¡ALERTA! Un asteroide de ' + str(diamAsteroide3) + 'm se acerca a ' + str(velAsteroide3) + 'Km/h' )\n",
    "elif  velAsteroide3 >= 25:\n",
    "    print('Asteroide detectado, mira al cielo para ver el rayo de luz')\n",
    "elif diamAsteroide3 < 25:\n",
    "    print('No hay ninguna amenza de asteroide, ten un buen dia')\n",
    "else:\n",
    "    print('No hay ninguna amenza de asteroide, ten un buen dia')"
   ]
  }
 ],
 "metadata": {
  "interpreter": {
   "hash": "7ffd835ae3eeb510ed33d11ea6515afca547441c2ab8256e435875ea160299a1"
  },
  "kernelspec": {
   "display_name": "Python 3.10.2 64-bit",
   "language": "python",
   "name": "python3"
  },
  "language_info": {
   "codemirror_mode": {
    "name": "ipython",
    "version": 3
   },
   "file_extension": ".py",
   "mimetype": "text/x-python",
   "name": "python",
   "nbconvert_exporter": "python",
   "pygments_lexer": "ipython3",
   "version": "3.10.2"
  },
  "orig_nbformat": 4
 },
 "nbformat": 4,
 "nbformat_minor": 2
}
