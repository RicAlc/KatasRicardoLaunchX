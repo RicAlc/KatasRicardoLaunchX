{
 "cells": [
  {
   "cell_type": "markdown",
   "metadata": {},
   "source": [
    "# KATA 4\n",
    "    Cadenas"
   ]
  },
  {
   "cell_type": "markdown",
   "metadata": {},
   "source": [
    "### Problema 1\n",
    "El texto con el que trabajarás es el siguiente:\n",
    "\n",
    "text = Interesting facts about the Moon. The Moon is Earth's only satellite. There are several interesting facts about the Moon and how it affects life here on Earth. \n",
    "On average, the Moon moves 4cm away from the Earth every year. This yearly drift is not significant enough to cause immediate effects on Earth. The highest day\n",
    "- Primero, divide el texto en cada oración para trabajar con su contenido:\n",
    "- Ahora, define algunas palabras clave para búsqueda que te ayudarán a determinar si una oración contiene un hecho.\n",
    "- Crea un bucle para imprimir solo datos sobre la Luna que estén relacionados con las palabras clave definidas anteriormente:\n",
    "- Finalmente, actualiza el bucle(ciclo) para cambiar C a Celsius:\n",
    "\n"
   ]
  },
  {
   "cell_type": "code",
   "execution_count": 40,
   "metadata": {},
   "outputs": [
    {
     "name": "stdout",
     "output_type": "stream",
     "text": [
      " \n",
      "On average, the Moon moves 4cm away from the Earth every year\n",
      " \n",
      "On average, the Moon moves 4 centimeters away from the Earth every year\n"
     ]
    }
   ],
   "source": [
    "text = \"\"\"Interesting facts about the Moon. The Moon is Earth's only satellite. There are several interesting facts about the Moon and how it affects life here on Earth. \n",
    "On average, the Moon moves 4cm away from the Earth every year. This yearly drift is not significant enough to cause immediate effects on Earth. The highest day\n",
    "- Primero, divide el texto en cada oración para trabajar con su contenido:\"\"\"\n",
    "textSentences = text.split('.')\n",
    "\n",
    "\n",
    "keywords = [\"average\", \"temperature\", \"distance\"]\n",
    "for sentence in textSentences:\n",
    "    for keyword in keywords:\n",
    "        if keyword in sentence:\n",
    "            print(sentence)\n",
    "            break \n",
    "\n",
    "#Cambio de cm a cenimeters\n",
    "for sentence in textSentences:\n",
    "    for keyword in keywords:\n",
    "        if keyword in sentence:\n",
    "            print(sentence.replace('cm', ' centimeters'))\n",
    "            break"
   ]
  },
  {
   "cell_type": "markdown",
   "metadata": {},
   "source": [
    "### Ejercicio 2: Formateando Cadenas\n",
    "Saber cómo dar formato a las cadenas es esencial cuando se presenta información de un programa. Hay algunas maneras diferentes de lograr esto en Python. En este ejercicio, se utilizan variables que contienen datos clave sobre la gravedad en varias lunas y luego se utilizan para dar formato e imprimir la información.\n",
    "\n",
    "El formato tiene que acomodar información sobre otras lunas, por lo que debe ser genérico.\n",
    "\n",
    "En lugar de reemplazar las variables en una cadena larga como parte de un párrafo, utiliza la información para presentarla en un formato tabular. El resultado debería verse así:\n",
    "\n",
    "Gravity Facts about Ganymede\n",
    "\n",
    "................................................................\n",
    "\n",
    "Planet Name: Mars\n",
    "Gravity on Ganymede: 1.4300000000000002 m/s2"
   ]
  },
  {
   "cell_type": "code",
   "execution_count": 23,
   "metadata": {},
   "outputs": [
    {
     "name": "stdout",
     "output_type": "stream",
     "text": [
      "Fun facts of gravity in Earth and the Moon\n",
      "--------------------------------------------------\n",
      "Planet Name: Earth\n",
      "Gravity on Moon: 1.62 m/s2\n"
     ]
    }
   ],
   "source": [
    "name = \"Moon\"\n",
    "gravity = 0.00162 # in kms\n",
    "planet = \"Earth\"\n",
    "title = f'Fun facts of gravity in {planet} and the {name}'\n",
    "#print(title)\n",
    "\n",
    "#Conversión de Kms a ms y redondeo\n",
    "gravity = gravity*1000\n",
    "gravity = round(gravity,2)\n",
    "\n",
    "#PLANTILLA\n",
    "body = f\"\"\"{'-'*50}\n",
    "Planet Name: {planet}\n",
    "Gravity on {name}: {gravity} m/s2\"\"\"\n",
    "\n",
    "#Output\n",
    "text = f\"\"\"{title}\n",
    "{body}\"\"\"\n",
    "print(text) \n"
   ]
  },
  {
   "cell_type": "markdown",
   "metadata": {},
   "source": [
    "##### Usando nueva informacion\n",
    "planeta = 'Marte '\n",
    "gravedad  = 0.00143\n",
    "nombre = 'Ganímedes'"
   ]
  },
  {
   "cell_type": "code",
   "execution_count": 35,
   "metadata": {},
   "outputs": [],
   "source": [
    "name = \"Ganymede\"\n",
    "gravity = 0.00143 # in kms\n",
    "planet = \"Mars\""
   ]
  },
  {
   "cell_type": "code",
   "execution_count": 39,
   "metadata": {},
   "outputs": [
    {
     "name": "stdout",
     "output_type": "stream",
     "text": [
      "\n",
      "Fun facts of gravity in Mars and the Ganymede\n",
      "--------------------------------------------------\n",
      "Planet Name: Mars\n",
      "Gravity on Ganymede: 1430.0 m/s2\n",
      "\n"
     ]
    }
   ],
   "source": [
    "template = \"\"\"\n",
    "Fun facts of gravity in {planet} and the {name}\n",
    "--------------------------------------------------\n",
    "Planet Name: {planet}\n",
    "Gravity on {name}: {gravity} m/s2\n",
    "\"\"\"\n",
    "#Conversion de Kmh a ms con redondeo de 2 \n",
    "gravity = round(gravity*1000, 2)\n",
    "print(template.format(planet = planet, name = name, gravity = gravity))"
   ]
  }
 ],
 "metadata": {
  "interpreter": {
   "hash": "85189ab8b78d826c09ff9ab10c4584e27830bf971eaa4bb9120153d9fc1045f5"
  },
  "kernelspec": {
   "display_name": "Python 3.9.10 64-bit",
   "language": "python",
   "name": "python3"
  },
  "language_info": {
   "codemirror_mode": {
    "name": "ipython",
    "version": 3
   },
   "file_extension": ".py",
   "mimetype": "text/x-python",
   "name": "python",
   "nbconvert_exporter": "python",
   "pygments_lexer": "ipython3",
   "version": "3.10.2"
  },
  "orig_nbformat": 4
 },
 "nbformat": 4,
 "nbformat_minor": 2
}
