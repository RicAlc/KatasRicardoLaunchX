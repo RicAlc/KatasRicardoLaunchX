{
 "cells": [
  {
   "cell_type": "markdown",
   "metadata": {},
   "source": [
    "# KATA 9\n",
    "    Uso de funciones en Python"
   ]
  },
  {
   "cell_type": "markdown",
   "metadata": {},
   "source": [
    "### Ejercicio 1: Trabajar con argumentos en funciones\n",
    "Comienza por crear una función que necesite tres lecturas de combustible y devuelva un informe:"
   ]
  },
  {
   "cell_type": "code",
   "execution_count": 36,
   "metadata": {},
   "outputs": [
    {
     "name": "stdout",
     "output_type": "stream",
     "text": [
      "Tanks fuel status\n",
      "    -----------------------------\n",
      "    Main tank: 20%\n",
      "    Right tank: 10%\n",
      "    Left tank: 50%\n",
      "    \n",
      "    The average fuel is = 26.67%\n",
      "    Tanks fuel is low, we should refill soon\n",
      "    \n"
     ]
    }
   ],
   "source": [
    "# Función para leer 3 tanques de combustible y muestre el promedio\n",
    "def tank_lecture(tank_main,tank_left,tank_right):\n",
    "    avg = (tank_main + tank_left + tank_right)/3\n",
    "    avg = round(avg,2)\n",
    "    warning= ''\n",
    "    if avg < 30:\n",
    "        warning = 'Tanks fuel is low, we should refill soon'\n",
    "\n",
    "    return f\"\"\"Tanks fuel status\n",
    "    -----------------------------\n",
    "    Main tank: {tank_main}%\n",
    "    Right tank: {tank_right}%\n",
    "    Left tank: {tank_left}%\n",
    "    \n",
    "    The average fuel is = {avg}%\n",
    "    {warning}\n",
    "    \"\"\"\n",
    "\n",
    "# Llamamos a la función que genera el reporte print(funcion(tanque1, tanque2, tanque3))\n",
    "print(tank_lecture(20,50,10))\n"
   ]
  },
  {
   "cell_type": "code",
   "execution_count": 69,
   "metadata": {},
   "outputs": [
    {
     "name": "stdout",
     "output_type": "stream",
     "text": [
      "44.67\n",
      "Tanks fuel status\n",
      "    -----------------------------\n",
      "    Main tank: 12%\n",
      "    Right tank: 25%\n",
      "    Left tank: 15%\n",
      "    \n",
      "    The average fuel is = 17.33%\n",
      "    ¡Tanks fuel are low! we should refill soon    \n",
      "    \n"
     ]
    }
   ],
   "source": [
    "#En lugar de simplemente crear el informe, la función también está calculando el promedio. Mejora la legibilidad extrayendo el cálculo promedio de la función en una nueva función para que el promedio \n",
    "# se pueda hacer de forma independiente:\n",
    "\n",
    "# Función promedio \n",
    "def average (values):\n",
    "    total = sum(values)\n",
    "    avg = round(total/len(values),2)\n",
    "\n",
    "    return avg\n",
    "    \n",
    "\n",
    "\n",
    "print(average([15,65,54]))\n",
    "\n",
    "# Acutualiza la funcion\n",
    "def tank_lecture(tank_main,tank_left,tank_right):\n",
    "    tank_advice= ''\n",
    "    if average([tank_left, tank_main,  tank_right]) < 30:\n",
    "        tank_advice = '¡Tanks fuel are low! we should refill soon'\n",
    "\n",
    "    return f\"\"\"Tanks fuel status\n",
    "    -----------------------------\n",
    "    Main tank: {tank_main}%\n",
    "    Right tank: {tank_right}%\n",
    "    Left tank: {tank_left}%\n",
    "    \n",
    "    The average fuel is = {average([tank_left, tank_main,  tank_right])}%\n",
    "    {tank_advice}    \n",
    "    \"\"\"\n",
    "print(tank_lecture(12,15,25))"
   ]
  },
  {
   "cell_type": "markdown",
   "metadata": {},
   "source": [
    "### Ejercicio 2: Trabajo con argumentos de palabra clave\n",
    "Ejercicio : Trabajar con argumentos de palabras clave en funciones\n",
    "\n",
    "En este ejercicio, construirás un informe de cohete que requiere varias piezas de información, como el tiempo hasta el destino, el combustible a la izquierda y el nombre del destino. Comienza por crear una función que creará un informe preciso de la misión:"
   ]
  },
  {
   "cell_type": "code",
   "execution_count": 75,
   "metadata": {},
   "outputs": [
    {
     "name": "stdout",
     "output_type": "stream",
     "text": [
      "     Mission report (ROCKET X)\n",
      "    ------------------------------------\n",
      "    Destination: Mars\n",
      "    Prelaunch time: 7 hours\n",
      "    Flight time: 5 hours\n",
      "    External tank fuel: 80 %\n",
      "    Internal tank fuel: 70%\n",
      "    \n",
      "    \n"
     ]
    }
   ],
   "source": [
    "# Función con un informe preciso de la misión. Considera hora de prelanzamiento, tiempo de vuelo, destino, tanque externo y tanque interno\n",
    "\n",
    "def mission_report(prelaunch_time,flying_time, destination, in_tank, ex_tank ):\n",
    "    return f\"\"\"     Mission report (ROCKET X)\n",
    "    ------------------------------------\n",
    "    Destination: {destination.title()}\n",
    "    Prelaunch time: {prelaunch_time} hours\n",
    "    Flight time: {flying_time} hours\n",
    "    External tank fuel: {ex_tank} %\n",
    "    Internal tank fuel: {in_tank}%\n",
    "    \n",
    "    \"\"\"\n",
    "\n",
    "print(mission_report(7, 5, 'mars', 70, 80 ))"
   ]
  },
  {
   "cell_type": "markdown",
   "metadata": {},
   "source": [
    "La función es problemática porque no se puede adaptar para minutos adicionales o tanques adicionales de combustible. Hazlo más flexible permitiendo cualquier número de pasos basados en el tiempo y cualquier número de tanques. En lugar de usar *args y **kwargs, aprovecha el hecho de que puedes usar cualquier nombre que desees. Asegurate que la función sea más legible mediante el uso de nombres de variables que están asociados con las entradas, como *minutes y **fuel_reservoirs:"
   ]
  },
  {
   "cell_type": "code",
   "execution_count": 78,
   "metadata": {},
   "outputs": [
    {
     "name": "stdout",
     "output_type": "stream",
     "text": [
      "     Mission report (ROCKET XY)\n",
      "    ------------------------------------\n",
      "    Destination: Jupiter\n",
      "    Total fuel used: 1990 gallons\n",
      "    Total wear of engines: 35 %\n",
      "    \n",
      "    \n"
     ]
    }
   ],
   "source": [
    "# Escribe tu nueva función de reporte considerando lo anterior\n",
    "def mission_report(destination, *fuel_gallon, **engine_wear):\n",
    "    \n",
    "    return f\"\"\"     Mission report (ROCKET XY)\n",
    "    ------------------------------------\n",
    "    Destination: {destination.title()}\n",
    "    Total fuel used: {sum(fuel_gallon)} gallons\n",
    "    Total wear of engines: {sum(engine_wear.values())} %\n",
    "    \n",
    "    \"\"\"\n",
    " \n",
    "\n",
    "print(mission_report('jupiter', 700, 490, 800, left_engine =15, right_engine= 20) )\n"
   ]
  },
  {
   "cell_type": "code",
   "execution_count": 102,
   "metadata": {},
   "outputs": [
    {
     "name": "stdout",
     "output_type": "stream",
     "text": [
      "     Mission report (ROCKET XY)\n",
      "    ------------------------------------\n",
      "    Destination: Jupiter\n",
      "    Total fuel used: 1990 gallons\n",
      "    Total wear of engines: 35 %\n",
      "    left engine has a wear of 15\n",
      "    right engine has a wear of 20\n"
     ]
    }
   ],
   "source": [
    "# Debido a que el combustible que queda en los tanques es específico de cada tanque, actualiza la función para usar el nombre de cada tanque en el informe:\n",
    "# Escribe tu nueva función\n",
    "\n",
    "def mission_report(destination, *fuel_gallon, **engine_wear):\n",
    "    \n",
    "    report = f\"\"\"     Mission report (ROCKET XY)\n",
    "    ------------------------------------\n",
    "    Destination: {destination.title()}\n",
    "    Total fuel used: {sum(fuel_gallon)} gallons\n",
    "    Total wear of engines: {sum(engine_wear.values())} %\"\"\"\n",
    "\n",
    "    for engine, wear in engine_wear.items():\n",
    "        report = report + f'\\n    {engine} engine has a wear of {wear}'\n",
    "\n",
    "    return report\n",
    "\n",
    "print(mission_report('jupiter', 700, 490, 800, left =15, right= 20) )\n"
   ]
  }
 ],
 "metadata": {
  "interpreter": {
   "hash": "7ffd835ae3eeb510ed33d11ea6515afca547441c2ab8256e435875ea160299a1"
  },
  "kernelspec": {
   "display_name": "Python 3.10.2 64-bit",
   "language": "python",
   "name": "python3"
  },
  "language_info": {
   "codemirror_mode": {
    "name": "ipython",
    "version": 3
   },
   "file_extension": ".py",
   "mimetype": "text/x-python",
   "name": "python",
   "nbconvert_exporter": "python",
   "pygments_lexer": "ipython3",
   "version": "3.10.2"
  },
  "orig_nbformat": 4
 },
 "nbformat": 4,
 "nbformat_minor": 2
}
