{
 "cells": [
  {
   "cell_type": "markdown",
   "metadata": {},
   "source": [
    "# KATA 6\n",
    "    Listas"
   ]
  },
  {
   "cell_type": "markdown",
   "metadata": {},
   "source": [
    "### Ejercicio 1\n",
    "Comenzarás un proyecto sobre información planetaria creando una lista de planetas. En primer lugar, crea una variable denominada planets. Agrega los ocho planetas (sin Plutón) a la lista. A continuación, muestra el número de planetas.\n",
    "- Agrega a Plutón a la lista que creaste. Luego muestra tanto el número de planetas como el último planeta de la lista."
   ]
  },
  {
   "cell_type": "code",
   "execution_count": 4,
   "metadata": {},
   "outputs": [
    {
     "name": "stdout",
     "output_type": "stream",
     "text": [
      "There is 9 planets in the solar system\n",
      "The last planet is Pluto\n",
      "['Earth', 'Mars', 'Saturn', 'Jupiter', 'Venus', 'Mercury', 'Uranus', 'Neptune', 'Pluto']\n"
     ]
    }
   ],
   "source": [
    "planets = ['Earth', 'Mars', 'Saturn', 'Jupiter', 'Venus', 'Mercury', 'Uranus', 'Neptune']\n",
    "planets.append('Pluto')\n",
    "print('There is', len(planets), 'planets in the solar system' )\n",
    "print('The last planet is', planets[-1])\n",
    "print(planets)"
   ]
  },
  {
   "cell_type": "markdown",
   "metadata": {},
   "source": [
    "### Ejercicio 2: Trabajando con datos de una lista\n",
    "Usar slices para recuperar partes de una lista\n",
    "- Solicita al usuario el nombre de un planeta\n",
    "- Encuentra el planeta en la lista\n",
    "- Mostrar planetas más cercanos al sol que el que el usuario ingresó\n",
    "- Mostrar planetas más alejados del sol que el que el usuario ingresó"
   ]
  },
  {
   "cell_type": "code",
   "execution_count": 7,
   "metadata": {},
   "outputs": [
    {
     "name": "stdout",
     "output_type": "stream",
     "text": [
      "Planets closer to the sun than Jupiter are: \n",
      "['Mercury', 'Venus', 'Earth', 'Mars']\n",
      "Planets farther to the sun than Jupiter are: \n",
      "['Saturn', 'Neptune']\n"
     ]
    }
   ],
   "source": [
    "# Lista de planetas\n",
    "planets = ['Mercury', 'Venus', 'Earth', 'Mars', 'Jupiter', 'Saturn', 'Neptune']\n",
    "user_planet = input('Write down the name of a planet (first letter in caps): ')\n",
    "planet_position = planets.index(user_planet)\n",
    "print('Planets closer to the sun than ' + user_planet + ' are: ')\n",
    "print(planets[0:planet_position])\n",
    "print('Planets farther to the sun than ' + user_planet + ' are: ')\n",
    "print(planets[planet_position + 1:])\n"
   ]
  },
  {
   "cell_type": "code",
   "execution_count": 15,
   "metadata": {},
   "outputs": [
    {
     "name": "stdout",
     "output_type": "stream",
     "text": [
      "Planets closer to the sun than Jupiter are: \n",
      "Mercury\n",
      "Venus\n",
      "Earth\n",
      "Mars\n",
      "Planets farther to the sun than Jupiter are: \n",
      "Saturn\n",
      "Neptune\n"
     ]
    }
   ],
   "source": [
    "####### EJERCICIO 2 CON FOR ############\n",
    "planets = ['Mercury', 'Venus', 'Earth', 'Mars', 'Jupiter', 'Saturn', 'Neptune']\n",
    "user_planet = input('Write down the name of a planet (first letter in caps): ')\n",
    "planet_position = planets.index(user_planet)\n",
    "print('Planets closer to the sun than ' + user_planet + ' are: ')\n",
    "for p in planets:\n",
    "    if planets.index(p) < planet_position:\n",
    "        print(p)\n",
    "print('Planets farther to the sun than ' + user_planet + ' are: ')\n",
    "for p in planets:\n",
    "    if planets.index(p) > planet_position:\n",
    "        print(p)\n"
   ]
  }
 ],
 "metadata": {
  "interpreter": {
   "hash": "7ffd835ae3eeb510ed33d11ea6515afca547441c2ab8256e435875ea160299a1"
  },
  "kernelspec": {
   "display_name": "Python 3.10.2 64-bit",
   "language": "python",
   "name": "python3"
  },
  "language_info": {
   "codemirror_mode": {
    "name": "ipython",
    "version": 3
   },
   "file_extension": ".py",
   "mimetype": "text/x-python",
   "name": "python",
   "nbconvert_exporter": "python",
   "pygments_lexer": "ipython3",
   "version": "3.10.2"
  },
  "orig_nbformat": 4
 },
 "nbformat": 4,
 "nbformat_minor": 2
}
